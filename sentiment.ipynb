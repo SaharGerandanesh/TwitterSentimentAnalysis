{
 "cells": [
  {
   "cell_type": "code",
   "execution_count": 15,
   "metadata": {},
   "outputs": [],
   "source": [
    "import pandas as pd\n",
    "import numpy as np\n",
    "from sklearn.model_selection import train_test_split\n",
    "from sklearn.metrics import classification_report, confusion_matrix\n",
    "from transformers import DistilBertTokenizer, DistilBertForSequenceClassification, Trainer, TrainingArguments\n",
    "from transformers import Trainer, TrainingArguments\n",
    "import torch\n",
    "import os\n",
    "import shutil\n",
    "import matplotlib.pyplot as plt\n",
    "import seaborn as sns"
   ]
  },
  {
   "cell_type": "code",
   "execution_count": 22,
   "metadata": {},
   "outputs": [],
   "source": [
    "# 1. Ladda datasetet\n",
    "file_path = 'training.16000.csv'\n",
    "data = pd.read_csv(file_path, encoding='latin1')\n",
    "\n",
    "# 2. Omvandla kolumn '0' till etiketter (0 och 4) och skapa en ny kolumn 'label'\n",
    "data['label'] = data['0'].apply(lambda x: 0 if x == 0 else 1)\n",
    "data['text'] = data.iloc[:, 5]  \n",
    "\n",
    "# 3. Skapa en mindre delmängd av datan (10-20%)\n",
    "small_train_texts, _, small_train_labels, _ = train_test_split(\n",
    "    data['text'], data['label'], test_size=0.8, random_state=42\n",
    ")\n"
   ]
  },
  {
   "cell_type": "code",
   "execution_count": 23,
   "metadata": {},
   "outputs": [],
   "source": [
    "# 4. Dela datasetet i träning och test\n",
    "train_texts, test_texts, train_labels, test_labels = train_test_split(\n",
    "    small_train_texts, small_train_labels, test_size=0.2, random_state=42\n",
    ")\n",
    "\n",
    "# 5. Tokenisering av text\n",
    "tokenizer = DistilBertTokenizer.from_pretrained('distilbert-base-uncased')\n",
    "train_encodings = tokenizer(list(train_texts), truncation=True, padding=True)\n",
    "test_encodings = tokenizer(list(test_texts), truncation=True, padding=True)"
   ]
  },
  {
   "cell_type": "code",
   "execution_count": 25,
   "metadata": {},
   "outputs": [],
   "source": [
    "# 6. Skapa datasetobjekt för PyTorch\n",
    "class TweetDataset(torch.utils.data.Dataset):\n",
    "    def __init__(self, encodings, labels):\n",
    "        self.encodings = encodings\n",
    "        self.labels = labels\n",
    "\n",
    "    def __getitem__(self, idx):\n",
    "        item = {key: torch.tensor(val[idx]) for key, val in self.encodings.items()}\n",
    "        item['labels'] = torch.tensor(self.labels[idx])\n",
    "        return item\n",
    "\n",
    "    def __len__(self):\n",
    "        return len(self.labels)\n",
    "\n",
    "train_dataset = TweetDataset(train_encodings, train_labels.tolist())\n",
    "test_dataset = TweetDataset(test_encodings, test_labels.tolist())\n"
   ]
  },
  {
   "cell_type": "code",
   "execution_count": 26,
   "metadata": {},
   "outputs": [
    {
     "name": "stderr",
     "output_type": "stream",
     "text": [
      "Some weights of DistilBertForSequenceClassification were not initialized from the model checkpoint at distilbert-base-uncased and are newly initialized: ['classifier.bias', 'classifier.weight', 'pre_classifier.bias', 'pre_classifier.weight']\n",
      "You should probably TRAIN this model on a down-stream task to be able to use it for predictions and inference.\n",
      "c:\\Apps\\conda\\envs\\AIkurs_statistik\\lib\\site-packages\\transformers\\training_args.py:1545: FutureWarning: `evaluation_strategy` is deprecated and will be removed in version 4.46 of 🤗 Transformers. Use `eval_strategy` instead\n",
      "  warnings.warn(\n"
     ]
    }
   ],
   "source": [
    "# 7. Ladda modellen\n",
    "model = DistilBertForSequenceClassification.from_pretrained('distilbert-base-uncased', num_labels=2)\n",
    "\n",
    "\n",
    "# 8. Träningsinställningar\n",
    "# Skapa en mapp för loggar \n",
    "log_dir = './logs'\n",
    "os.makedirs(log_dir, exist_ok=True)\n",
    "\n",
    "# Rensa tidigare loggar och resultat\n",
    "shutil.rmtree('./results', ignore_errors=True)\n",
    "shutil.rmtree(log_dir, ignore_errors=True)\n",
    "\n",
    "# Skapa mappen igen\n",
    "os.makedirs(log_dir, exist_ok=True)\n",
    "\n",
    "training_args = TrainingArguments(\n",
    "    output_dir='./results',\n",
    "    num_train_epochs=2,\n",
    "    per_device_train_batch_size=4,\n",
    "    per_device_eval_batch_size=4,\n",
    "    evaluation_strategy=\"epoch\",\n",
    "    logging_dir=log_dir,  \n",
    "    report_to=\"none\",  \n",
    ")\n"
   ]
  },
  {
   "cell_type": "code",
   "execution_count": 27,
   "metadata": {},
   "outputs": [
    {
     "data": {
      "application/vnd.jupyter.widget-view+json": {
       "model_id": "6bd0e9b7fa444a5d86ae46f5ee266d22",
       "version_major": 2,
       "version_minor": 0
      },
      "text/plain": [
       "  0%|          | 0/128000 [00:00<?, ?it/s]"
      ]
     },
     "metadata": {},
     "output_type": "display_data"
    },
    {
     "name": "stdout",
     "output_type": "stream",
     "text": [
      "{'loss': 0.606, 'grad_norm': 13.630781173706055, 'learning_rate': 4.9804687500000004e-05, 'epoch': 0.01}\n",
      "{'loss': 0.5754, 'grad_norm': 16.620887756347656, 'learning_rate': 4.9609375000000005e-05, 'epoch': 0.02}\n",
      "{'loss': 0.5856, 'grad_norm': 1.4834717512130737, 'learning_rate': 4.94140625e-05, 'epoch': 0.02}\n",
      "{'loss': 0.5895, 'grad_norm': 6.017210006713867, 'learning_rate': 4.921875e-05, 'epoch': 0.03}\n",
      "{'loss': 0.5964, 'grad_norm': 8.749475479125977, 'learning_rate': 4.90234375e-05, 'epoch': 0.04}\n",
      "{'loss': 0.5667, 'grad_norm': 7.514516830444336, 'learning_rate': 4.8828125e-05, 'epoch': 0.05}\n",
      "{'loss': 0.552, 'grad_norm': 6.288262844085693, 'learning_rate': 4.8632812500000004e-05, 'epoch': 0.05}\n",
      "{'loss': 0.6017, 'grad_norm': 14.635283470153809, 'learning_rate': 4.8437500000000005e-05, 'epoch': 0.06}\n",
      "{'loss': 0.5941, 'grad_norm': 5.767355442047119, 'learning_rate': 4.82421875e-05, 'epoch': 0.07}\n",
      "{'loss': 0.5681, 'grad_norm': 0.6118106842041016, 'learning_rate': 4.8046875e-05, 'epoch': 0.08}\n",
      "{'loss': 0.5919, 'grad_norm': 11.191326141357422, 'learning_rate': 4.78515625e-05, 'epoch': 0.09}\n",
      "{'loss': 0.5429, 'grad_norm': 0.5659114718437195, 'learning_rate': 4.765625e-05, 'epoch': 0.09}\n",
      "{'loss': 0.5446, 'grad_norm': 0.44248640537261963, 'learning_rate': 4.7460937500000004e-05, 'epoch': 0.1}\n",
      "{'loss': 0.5635, 'grad_norm': 0.49200430512428284, 'learning_rate': 4.7265625000000005e-05, 'epoch': 0.11}\n",
      "{'loss': 0.5381, 'grad_norm': 0.54424649477005, 'learning_rate': 4.70703125e-05, 'epoch': 0.12}\n",
      "{'loss': 0.5688, 'grad_norm': 1.6827129125595093, 'learning_rate': 4.6875e-05, 'epoch': 0.12}\n",
      "{'loss': 0.5693, 'grad_norm': 6.913404941558838, 'learning_rate': 4.66796875e-05, 'epoch': 0.13}\n",
      "{'loss': 0.5628, 'grad_norm': 0.5253586173057556, 'learning_rate': 4.6484375e-05, 'epoch': 0.14}\n",
      "{'loss': 0.5524, 'grad_norm': 6.018033027648926, 'learning_rate': 4.6289062500000005e-05, 'epoch': 0.15}\n",
      "{'loss': 0.5689, 'grad_norm': 5.752988815307617, 'learning_rate': 4.609375e-05, 'epoch': 0.16}\n",
      "{'loss': 0.5376, 'grad_norm': 15.274415016174316, 'learning_rate': 4.58984375e-05, 'epoch': 0.16}\n",
      "{'loss': 0.5425, 'grad_norm': 1.574134111404419, 'learning_rate': 4.5703125e-05, 'epoch': 0.17}\n",
      "{'loss': 0.5838, 'grad_norm': 16.979610443115234, 'learning_rate': 4.55078125e-05, 'epoch': 0.18}\n",
      "{'loss': 0.5257, 'grad_norm': 28.537019729614258, 'learning_rate': 4.5312500000000004e-05, 'epoch': 0.19}\n",
      "{'loss': 0.5969, 'grad_norm': 10.625863075256348, 'learning_rate': 4.5117187500000005e-05, 'epoch': 0.2}\n",
      "{'loss': 0.5677, 'grad_norm': 7.667001724243164, 'learning_rate': 4.4921875e-05, 'epoch': 0.2}\n",
      "{'loss': 0.5601, 'grad_norm': 2.031681537628174, 'learning_rate': 4.47265625e-05, 'epoch': 0.21}\n",
      "{'loss': 0.583, 'grad_norm': 3.112732172012329, 'learning_rate': 4.453125e-05, 'epoch': 0.22}\n",
      "{'loss': 0.5504, 'grad_norm': 2.675532579421997, 'learning_rate': 4.43359375e-05, 'epoch': 0.23}\n",
      "{'loss': 0.5561, 'grad_norm': 1.1630479097366333, 'learning_rate': 4.4140625000000004e-05, 'epoch': 0.23}\n",
      "{'loss': 0.5691, 'grad_norm': 1.5357115268707275, 'learning_rate': 4.3945312500000005e-05, 'epoch': 0.24}\n",
      "{'loss': 0.5633, 'grad_norm': 5.428732395172119, 'learning_rate': 4.375e-05, 'epoch': 0.25}\n",
      "{'loss': 0.5814, 'grad_norm': 7.736464977264404, 'learning_rate': 4.35546875e-05, 'epoch': 0.26}\n",
      "{'loss': 0.5569, 'grad_norm': 22.63844108581543, 'learning_rate': 4.3359375e-05, 'epoch': 0.27}\n",
      "{'loss': 0.5701, 'grad_norm': 3.7661852836608887, 'learning_rate': 4.31640625e-05, 'epoch': 0.27}\n",
      "{'loss': 0.5815, 'grad_norm': 11.73703670501709, 'learning_rate': 4.2968750000000004e-05, 'epoch': 0.28}\n",
      "{'loss': 0.5495, 'grad_norm': 25.41687774658203, 'learning_rate': 4.27734375e-05, 'epoch': 0.29}\n",
      "{'loss': 0.5346, 'grad_norm': 9.879932403564453, 'learning_rate': 4.2578125e-05, 'epoch': 0.3}\n",
      "{'loss': 0.5537, 'grad_norm': 1.784606695175171, 'learning_rate': 4.23828125e-05, 'epoch': 0.3}\n",
      "{'loss': 0.557, 'grad_norm': 3.618284225463867, 'learning_rate': 4.21875e-05, 'epoch': 0.31}\n",
      "{'loss': 0.5713, 'grad_norm': 1.0860378742218018, 'learning_rate': 4.1992187500000003e-05, 'epoch': 0.32}\n",
      "{'loss': 0.5223, 'grad_norm': 31.22517967224121, 'learning_rate': 4.1796875000000005e-05, 'epoch': 0.33}\n",
      "{'loss': 0.5364, 'grad_norm': 6.7027974128723145, 'learning_rate': 4.16015625e-05, 'epoch': 0.34}\n",
      "{'loss': 0.5472, 'grad_norm': 16.131959915161133, 'learning_rate': 4.140625e-05, 'epoch': 0.34}\n",
      "{'loss': 0.5631, 'grad_norm': 18.79168128967285, 'learning_rate': 4.12109375e-05, 'epoch': 0.35}\n",
      "{'loss': 0.5441, 'grad_norm': 27.41378402709961, 'learning_rate': 4.1015625e-05, 'epoch': 0.36}\n",
      "{'loss': 0.5883, 'grad_norm': 5.070145606994629, 'learning_rate': 4.0820312500000004e-05, 'epoch': 0.37}\n",
      "{'loss': 0.5687, 'grad_norm': 1.0682939291000366, 'learning_rate': 4.0625000000000005e-05, 'epoch': 0.38}\n",
      "{'loss': 0.5992, 'grad_norm': 0.7733222842216492, 'learning_rate': 4.04296875e-05, 'epoch': 0.38}\n",
      "{'loss': 0.5385, 'grad_norm': 5.461465835571289, 'learning_rate': 4.0234375e-05, 'epoch': 0.39}\n",
      "{'loss': 0.5292, 'grad_norm': 2.3996503353118896, 'learning_rate': 4.00390625e-05, 'epoch': 0.4}\n",
      "{'loss': 0.5816, 'grad_norm': 9.838835716247559, 'learning_rate': 3.984375e-05, 'epoch': 0.41}\n",
      "{'loss': 0.5468, 'grad_norm': 5.331943988800049, 'learning_rate': 3.9648437500000004e-05, 'epoch': 0.41}\n",
      "{'loss': 0.5749, 'grad_norm': 0.7955968976020813, 'learning_rate': 3.9453125000000005e-05, 'epoch': 0.42}\n",
      "{'loss': 0.5518, 'grad_norm': 5.330599308013916, 'learning_rate': 3.92578125e-05, 'epoch': 0.43}\n",
      "{'loss': 0.5656, 'grad_norm': 0.7825486063957214, 'learning_rate': 3.90625e-05, 'epoch': 0.44}\n",
      "{'loss': 0.5445, 'grad_norm': 0.5020825266838074, 'learning_rate': 3.88671875e-05, 'epoch': 0.45}\n",
      "{'loss': 0.5777, 'grad_norm': 4.149751663208008, 'learning_rate': 3.8671875e-05, 'epoch': 0.45}\n",
      "{'loss': 0.5456, 'grad_norm': 17.653352737426758, 'learning_rate': 3.8476562500000004e-05, 'epoch': 0.46}\n",
      "{'loss': 0.5683, 'grad_norm': 2.597165822982788, 'learning_rate': 3.828125e-05, 'epoch': 0.47}\n",
      "{'loss': 0.5474, 'grad_norm': 0.5932939052581787, 'learning_rate': 3.80859375e-05, 'epoch': 0.48}\n",
      "{'loss': 0.5762, 'grad_norm': 1.0299471616744995, 'learning_rate': 3.7890625e-05, 'epoch': 0.48}\n",
      "{'loss': 0.5652, 'grad_norm': 3.9114177227020264, 'learning_rate': 3.76953125e-05, 'epoch': 0.49}\n",
      "{'loss': 0.559, 'grad_norm': 22.70556640625, 'learning_rate': 3.7500000000000003e-05, 'epoch': 0.5}\n",
      "{'loss': 0.5543, 'grad_norm': 5.239774227142334, 'learning_rate': 3.7304687500000005e-05, 'epoch': 0.51}\n",
      "{'loss': 0.5864, 'grad_norm': 1.1305009126663208, 'learning_rate': 3.7109375e-05, 'epoch': 0.52}\n",
      "{'loss': 0.5023, 'grad_norm': 6.596615314483643, 'learning_rate': 3.69140625e-05, 'epoch': 0.52}\n",
      "{'loss': 0.5453, 'grad_norm': 7.4838433265686035, 'learning_rate': 3.671875e-05, 'epoch': 0.53}\n",
      "{'loss': 0.5373, 'grad_norm': 11.06386947631836, 'learning_rate': 3.65234375e-05, 'epoch': 0.54}\n",
      "{'loss': 0.5448, 'grad_norm': 10.284945487976074, 'learning_rate': 3.6328125000000004e-05, 'epoch': 0.55}\n",
      "{'loss': 0.545, 'grad_norm': 13.896063804626465, 'learning_rate': 3.6132812500000005e-05, 'epoch': 0.55}\n",
      "{'loss': 0.5619, 'grad_norm': 6.153424263000488, 'learning_rate': 3.59375e-05, 'epoch': 0.56}\n",
      "{'loss': 0.5746, 'grad_norm': 1.0073747634887695, 'learning_rate': 3.57421875e-05, 'epoch': 0.57}\n",
      "{'loss': 0.5571, 'grad_norm': 1.3584662675857544, 'learning_rate': 3.5546875e-05, 'epoch': 0.58}\n",
      "{'loss': 0.6027, 'grad_norm': 0.7702049016952515, 'learning_rate': 3.53515625e-05, 'epoch': 0.59}\n",
      "{'loss': 0.5887, 'grad_norm': 29.063291549682617, 'learning_rate': 3.5156250000000004e-05, 'epoch': 0.59}\n",
      "{'loss': 0.5317, 'grad_norm': 9.355124473571777, 'learning_rate': 3.49609375e-05, 'epoch': 0.6}\n",
      "{'loss': 0.584, 'grad_norm': 5.005677223205566, 'learning_rate': 3.4765625e-05, 'epoch': 0.61}\n",
      "{'loss': 0.6108, 'grad_norm': 11.586135864257812, 'learning_rate': 3.45703125e-05, 'epoch': 0.62}\n",
      "{'loss': 0.5758, 'grad_norm': 8.965592384338379, 'learning_rate': 3.4375e-05, 'epoch': 0.62}\n",
      "{'loss': 0.5793, 'grad_norm': 8.587261199951172, 'learning_rate': 3.41796875e-05, 'epoch': 0.63}\n",
      "{'loss': 0.5453, 'grad_norm': 15.374762535095215, 'learning_rate': 3.3984375000000004e-05, 'epoch': 0.64}\n",
      "{'loss': 0.5743, 'grad_norm': 6.8136725425720215, 'learning_rate': 3.37890625e-05, 'epoch': 0.65}\n",
      "{'loss': 0.5675, 'grad_norm': 11.669307708740234, 'learning_rate': 3.359375e-05, 'epoch': 0.66}\n",
      "{'loss': 0.5452, 'grad_norm': 3.3523552417755127, 'learning_rate': 3.33984375e-05, 'epoch': 0.66}\n",
      "{'loss': 0.5947, 'grad_norm': 6.5196852684021, 'learning_rate': 3.3203125e-05, 'epoch': 0.67}\n",
      "{'loss': 0.5665, 'grad_norm': 6.614357948303223, 'learning_rate': 3.3007812500000004e-05, 'epoch': 0.68}\n",
      "{'loss': 0.5588, 'grad_norm': 15.805098533630371, 'learning_rate': 3.2812500000000005e-05, 'epoch': 0.69}\n",
      "{'loss': 0.5897, 'grad_norm': 9.189496994018555, 'learning_rate': 3.26171875e-05, 'epoch': 0.7}\n",
      "{'loss': 0.6059, 'grad_norm': 58.9914665222168, 'learning_rate': 3.2421875e-05, 'epoch': 0.7}\n",
      "{'loss': 0.5782, 'grad_norm': 1.032488226890564, 'learning_rate': 3.22265625e-05, 'epoch': 0.71}\n",
      "{'loss': 0.5773, 'grad_norm': 13.3599853515625, 'learning_rate': 3.203125e-05, 'epoch': 0.72}\n",
      "{'loss': 0.5444, 'grad_norm': 0.5802445411682129, 'learning_rate': 3.1835937500000004e-05, 'epoch': 0.73}\n",
      "{'loss': 0.5878, 'grad_norm': 1.5863614082336426, 'learning_rate': 3.1640625e-05, 'epoch': 0.73}\n",
      "{'loss': 0.565, 'grad_norm': 27.920452117919922, 'learning_rate': 3.14453125e-05, 'epoch': 0.74}\n",
      "{'loss': 0.5883, 'grad_norm': 11.405621528625488, 'learning_rate': 3.125e-05, 'epoch': 0.75}\n",
      "{'loss': 0.5792, 'grad_norm': 0.7634727954864502, 'learning_rate': 3.10546875e-05, 'epoch': 0.76}\n",
      "{'loss': 0.6138, 'grad_norm': 6.382110595703125, 'learning_rate': 3.0859375e-05, 'epoch': 0.77}\n",
      "{'loss': 0.5609, 'grad_norm': 6.70520544052124, 'learning_rate': 3.0664062500000004e-05, 'epoch': 0.77}\n",
      "{'loss': 0.5847, 'grad_norm': 14.204934120178223, 'learning_rate': 3.0468750000000002e-05, 'epoch': 0.78}\n",
      "{'loss': 0.5608, 'grad_norm': 30.018491744995117, 'learning_rate': 3.02734375e-05, 'epoch': 0.79}\n",
      "{'loss': 0.5861, 'grad_norm': 7.357026100158691, 'learning_rate': 3.0078125e-05, 'epoch': 0.8}\n",
      "{'loss': 0.5594, 'grad_norm': 62.45885467529297, 'learning_rate': 2.9882812500000002e-05, 'epoch': 0.8}\n",
      "{'loss': 0.5698, 'grad_norm': 5.836918830871582, 'learning_rate': 2.96875e-05, 'epoch': 0.81}\n",
      "{'loss': 0.5583, 'grad_norm': 3.021725654602051, 'learning_rate': 2.94921875e-05, 'epoch': 0.82}\n",
      "{'loss': 0.5592, 'grad_norm': 1.5414553880691528, 'learning_rate': 2.9296875000000002e-05, 'epoch': 0.83}\n",
      "{'loss': 0.5355, 'grad_norm': 64.97549438476562, 'learning_rate': 2.91015625e-05, 'epoch': 0.84}\n",
      "{'loss': 0.5837, 'grad_norm': 186.7165985107422, 'learning_rate': 2.890625e-05, 'epoch': 0.84}\n",
      "{'loss': 0.6016, 'grad_norm': 3.130093812942505, 'learning_rate': 2.8710937500000002e-05, 'epoch': 0.85}\n",
      "{'loss': 0.5539, 'grad_norm': 1.8030716180801392, 'learning_rate': 2.8515625e-05, 'epoch': 0.86}\n",
      "{'loss': 0.5471, 'grad_norm': 65.43053436279297, 'learning_rate': 2.83203125e-05, 'epoch': 0.87}\n",
      "{'loss': 0.5708, 'grad_norm': 10.016607284545898, 'learning_rate': 2.8125000000000003e-05, 'epoch': 0.88}\n",
      "{'loss': 0.5556, 'grad_norm': 7.20604133605957, 'learning_rate': 2.79296875e-05, 'epoch': 0.88}\n",
      "{'loss': 0.5651, 'grad_norm': 7.495200157165527, 'learning_rate': 2.7734375e-05, 'epoch': 0.89}\n",
      "{'loss': 0.5579, 'grad_norm': 37.47133255004883, 'learning_rate': 2.7539062500000003e-05, 'epoch': 0.9}\n",
      "{'loss': 0.5811, 'grad_norm': 1.2293857336044312, 'learning_rate': 2.734375e-05, 'epoch': 0.91}\n",
      "{'loss': 0.5779, 'grad_norm': 1.5366631746292114, 'learning_rate': 2.7148437500000002e-05, 'epoch': 0.91}\n",
      "{'loss': 0.5496, 'grad_norm': 25.21410369873047, 'learning_rate': 2.6953125000000003e-05, 'epoch': 0.92}\n",
      "{'loss': 0.5557, 'grad_norm': 0.8685401082038879, 'learning_rate': 2.67578125e-05, 'epoch': 0.93}\n",
      "{'loss': 0.5477, 'grad_norm': 3.8075637817382812, 'learning_rate': 2.6562500000000002e-05, 'epoch': 0.94}\n",
      "{'loss': 0.5217, 'grad_norm': 35.82651901245117, 'learning_rate': 2.63671875e-05, 'epoch': 0.95}\n",
      "{'loss': 0.5466, 'grad_norm': 1.6965755224227905, 'learning_rate': 2.6171875e-05, 'epoch': 0.95}\n",
      "{'loss': 0.5718, 'grad_norm': 7.610367774963379, 'learning_rate': 2.5976562500000002e-05, 'epoch': 0.96}\n",
      "{'loss': 0.541, 'grad_norm': 6.913096904754639, 'learning_rate': 2.578125e-05, 'epoch': 0.97}\n",
      "{'loss': 0.5382, 'grad_norm': 2.633413076400757, 'learning_rate': 2.55859375e-05, 'epoch': 0.98}\n",
      "{'loss': 0.5426, 'grad_norm': 12.220741271972656, 'learning_rate': 2.5390625000000002e-05, 'epoch': 0.98}\n",
      "{'loss': 0.5044, 'grad_norm': 29.86709976196289, 'learning_rate': 2.51953125e-05, 'epoch': 0.99}\n",
      "{'loss': 0.5707, 'grad_norm': 10.616209030151367, 'learning_rate': 2.5e-05, 'epoch': 1.0}\n"
     ]
    },
    {
     "data": {
      "application/vnd.jupyter.widget-view+json": {
       "model_id": "cc3894a45a66475e97f558ca9f0214c4",
       "version_major": 2,
       "version_minor": 0
      },
      "text/plain": [
       "  0%|          | 0/16000 [00:00<?, ?it/s]"
      ]
     },
     "metadata": {},
     "output_type": "display_data"
    },
    {
     "name": "stdout",
     "output_type": "stream",
     "text": [
      "{'eval_loss': 0.643319308757782, 'eval_runtime': 2554.0828, 'eval_samples_per_second': 25.058, 'eval_steps_per_second': 6.264, 'epoch': 1.0}\n"
     ]
    },
    {
     "ename": "KeyboardInterrupt",
     "evalue": "",
     "output_type": "error",
     "traceback": [
      "\u001b[1;31m---------------------------------------------------------------------------\u001b[0m",
      "\u001b[1;31mKeyboardInterrupt\u001b[0m                         Traceback (most recent call last)",
      "Cell \u001b[1;32mIn[27], line 9\u001b[0m\n\u001b[0;32m      1\u001b[0m \u001b[38;5;66;03m# 9. Träna modellen\u001b[39;00m\n\u001b[0;32m      2\u001b[0m trainer \u001b[38;5;241m=\u001b[39m Trainer(\n\u001b[0;32m      3\u001b[0m     model\u001b[38;5;241m=\u001b[39mmodel,\n\u001b[0;32m      4\u001b[0m     args\u001b[38;5;241m=\u001b[39mtraining_args,\n\u001b[0;32m      5\u001b[0m     train_dataset\u001b[38;5;241m=\u001b[39mtrain_dataset,\n\u001b[0;32m      6\u001b[0m     eval_dataset\u001b[38;5;241m=\u001b[39mtest_dataset\n\u001b[0;32m      7\u001b[0m )\n\u001b[1;32m----> 9\u001b[0m \u001b[43mtrainer\u001b[49m\u001b[38;5;241;43m.\u001b[39;49m\u001b[43mtrain\u001b[49m\u001b[43m(\u001b[49m\u001b[43m)\u001b[49m\n",
      "File \u001b[1;32mc:\\Apps\\conda\\envs\\AIkurs_statistik\\lib\\site-packages\\transformers\\trainer.py:2052\u001b[0m, in \u001b[0;36mTrainer.train\u001b[1;34m(self, resume_from_checkpoint, trial, ignore_keys_for_eval, **kwargs)\u001b[0m\n\u001b[0;32m   2050\u001b[0m         hf_hub_utils\u001b[38;5;241m.\u001b[39menable_progress_bars()\n\u001b[0;32m   2051\u001b[0m \u001b[38;5;28;01melse\u001b[39;00m:\n\u001b[1;32m-> 2052\u001b[0m     \u001b[38;5;28;01mreturn\u001b[39;00m \u001b[43minner_training_loop\u001b[49m\u001b[43m(\u001b[49m\n\u001b[0;32m   2053\u001b[0m \u001b[43m        \u001b[49m\u001b[43margs\u001b[49m\u001b[38;5;241;43m=\u001b[39;49m\u001b[43margs\u001b[49m\u001b[43m,\u001b[49m\n\u001b[0;32m   2054\u001b[0m \u001b[43m        \u001b[49m\u001b[43mresume_from_checkpoint\u001b[49m\u001b[38;5;241;43m=\u001b[39;49m\u001b[43mresume_from_checkpoint\u001b[49m\u001b[43m,\u001b[49m\n\u001b[0;32m   2055\u001b[0m \u001b[43m        \u001b[49m\u001b[43mtrial\u001b[49m\u001b[38;5;241;43m=\u001b[39;49m\u001b[43mtrial\u001b[49m\u001b[43m,\u001b[49m\n\u001b[0;32m   2056\u001b[0m \u001b[43m        \u001b[49m\u001b[43mignore_keys_for_eval\u001b[49m\u001b[38;5;241;43m=\u001b[39;49m\u001b[43mignore_keys_for_eval\u001b[49m\u001b[43m,\u001b[49m\n\u001b[0;32m   2057\u001b[0m \u001b[43m    \u001b[49m\u001b[43m)\u001b[49m\n",
      "File \u001b[1;32mc:\\Apps\\conda\\envs\\AIkurs_statistik\\lib\\site-packages\\transformers\\trainer.py:2388\u001b[0m, in \u001b[0;36mTrainer._inner_training_loop\u001b[1;34m(self, batch_size, args, resume_from_checkpoint, trial, ignore_keys_for_eval)\u001b[0m\n\u001b[0;32m   2385\u001b[0m     \u001b[38;5;28mself\u001b[39m\u001b[38;5;241m.\u001b[39mcontrol \u001b[38;5;241m=\u001b[39m \u001b[38;5;28mself\u001b[39m\u001b[38;5;241m.\u001b[39mcallback_handler\u001b[38;5;241m.\u001b[39mon_step_begin(args, \u001b[38;5;28mself\u001b[39m\u001b[38;5;241m.\u001b[39mstate, \u001b[38;5;28mself\u001b[39m\u001b[38;5;241m.\u001b[39mcontrol)\n\u001b[0;32m   2387\u001b[0m \u001b[38;5;28;01mwith\u001b[39;00m \u001b[38;5;28mself\u001b[39m\u001b[38;5;241m.\u001b[39maccelerator\u001b[38;5;241m.\u001b[39maccumulate(model):\n\u001b[1;32m-> 2388\u001b[0m     tr_loss_step \u001b[38;5;241m=\u001b[39m \u001b[38;5;28;43mself\u001b[39;49m\u001b[38;5;241;43m.\u001b[39;49m\u001b[43mtraining_step\u001b[49m\u001b[43m(\u001b[49m\u001b[43mmodel\u001b[49m\u001b[43m,\u001b[49m\u001b[43m \u001b[49m\u001b[43minputs\u001b[49m\u001b[43m)\u001b[49m\n\u001b[0;32m   2390\u001b[0m \u001b[38;5;28;01mif\u001b[39;00m (\n\u001b[0;32m   2391\u001b[0m     args\u001b[38;5;241m.\u001b[39mlogging_nan_inf_filter\n\u001b[0;32m   2392\u001b[0m     \u001b[38;5;129;01mand\u001b[39;00m \u001b[38;5;129;01mnot\u001b[39;00m is_torch_xla_available()\n\u001b[0;32m   2393\u001b[0m     \u001b[38;5;129;01mand\u001b[39;00m (torch\u001b[38;5;241m.\u001b[39misnan(tr_loss_step) \u001b[38;5;129;01mor\u001b[39;00m torch\u001b[38;5;241m.\u001b[39misinf(tr_loss_step))\n\u001b[0;32m   2394\u001b[0m ):\n\u001b[0;32m   2395\u001b[0m     \u001b[38;5;66;03m# if loss is nan or inf simply add the average of previous logged losses\u001b[39;00m\n\u001b[0;32m   2396\u001b[0m     tr_loss \u001b[38;5;241m+\u001b[39m\u001b[38;5;241m=\u001b[39m tr_loss \u001b[38;5;241m/\u001b[39m (\u001b[38;5;241m1\u001b[39m \u001b[38;5;241m+\u001b[39m \u001b[38;5;28mself\u001b[39m\u001b[38;5;241m.\u001b[39mstate\u001b[38;5;241m.\u001b[39mglobal_step \u001b[38;5;241m-\u001b[39m \u001b[38;5;28mself\u001b[39m\u001b[38;5;241m.\u001b[39m_globalstep_last_logged)\n",
      "File \u001b[1;32mc:\\Apps\\conda\\envs\\AIkurs_statistik\\lib\\site-packages\\transformers\\trainer.py:3518\u001b[0m, in \u001b[0;36mTrainer.training_step\u001b[1;34m(***failed resolving arguments***)\u001b[0m\n\u001b[0;32m   3516\u001b[0m         scaled_loss\u001b[38;5;241m.\u001b[39mbackward()\n\u001b[0;32m   3517\u001b[0m \u001b[38;5;28;01melse\u001b[39;00m:\n\u001b[1;32m-> 3518\u001b[0m     \u001b[38;5;28mself\u001b[39m\u001b[38;5;241m.\u001b[39maccelerator\u001b[38;5;241m.\u001b[39mbackward(loss, \u001b[38;5;241m*\u001b[39m\u001b[38;5;241m*\u001b[39mkwargs)\n\u001b[0;32m   3520\u001b[0m \u001b[38;5;28;01mreturn\u001b[39;00m loss\u001b[38;5;241m.\u001b[39mdetach() \u001b[38;5;241m/\u001b[39m \u001b[38;5;28mself\u001b[39m\u001b[38;5;241m.\u001b[39margs\u001b[38;5;241m.\u001b[39mgradient_accumulation_steps\n",
      "File \u001b[1;32mc:\\Apps\\conda\\envs\\AIkurs_statistik\\lib\\site-packages\\accelerate\\accelerator.py:2246\u001b[0m, in \u001b[0;36mAccelerator.backward\u001b[1;34m(self, loss, **kwargs)\u001b[0m\n\u001b[0;32m   2244\u001b[0m     \u001b[38;5;28mself\u001b[39m\u001b[38;5;241m.\u001b[39mlomo_backward(loss, learning_rate)\n\u001b[0;32m   2245\u001b[0m \u001b[38;5;28;01melse\u001b[39;00m:\n\u001b[1;32m-> 2246\u001b[0m     loss\u001b[38;5;241m.\u001b[39mbackward(\u001b[38;5;241m*\u001b[39m\u001b[38;5;241m*\u001b[39mkwargs)\n",
      "File \u001b[1;32mc:\\Apps\\conda\\envs\\AIkurs_statistik\\lib\\site-packages\\torch\\_tensor.py:521\u001b[0m, in \u001b[0;36mTensor.backward\u001b[1;34m(self, gradient, retain_graph, create_graph, inputs)\u001b[0m\n\u001b[0;32m    511\u001b[0m \u001b[38;5;28;01mif\u001b[39;00m has_torch_function_unary(\u001b[38;5;28mself\u001b[39m):\n\u001b[0;32m    512\u001b[0m     \u001b[38;5;28;01mreturn\u001b[39;00m handle_torch_function(\n\u001b[0;32m    513\u001b[0m         Tensor\u001b[38;5;241m.\u001b[39mbackward,\n\u001b[0;32m    514\u001b[0m         (\u001b[38;5;28mself\u001b[39m,),\n\u001b[1;32m   (...)\u001b[0m\n\u001b[0;32m    519\u001b[0m         inputs\u001b[38;5;241m=\u001b[39minputs,\n\u001b[0;32m    520\u001b[0m     )\n\u001b[1;32m--> 521\u001b[0m \u001b[43mtorch\u001b[49m\u001b[38;5;241;43m.\u001b[39;49m\u001b[43mautograd\u001b[49m\u001b[38;5;241;43m.\u001b[39;49m\u001b[43mbackward\u001b[49m\u001b[43m(\u001b[49m\n\u001b[0;32m    522\u001b[0m \u001b[43m    \u001b[49m\u001b[38;5;28;43mself\u001b[39;49m\u001b[43m,\u001b[49m\u001b[43m \u001b[49m\u001b[43mgradient\u001b[49m\u001b[43m,\u001b[49m\u001b[43m \u001b[49m\u001b[43mretain_graph\u001b[49m\u001b[43m,\u001b[49m\u001b[43m \u001b[49m\u001b[43mcreate_graph\u001b[49m\u001b[43m,\u001b[49m\u001b[43m \u001b[49m\u001b[43minputs\u001b[49m\u001b[38;5;241;43m=\u001b[39;49m\u001b[43minputs\u001b[49m\n\u001b[0;32m    523\u001b[0m \u001b[43m\u001b[49m\u001b[43m)\u001b[49m\n",
      "File \u001b[1;32mc:\\Apps\\conda\\envs\\AIkurs_statistik\\lib\\site-packages\\torch\\autograd\\__init__.py:289\u001b[0m, in \u001b[0;36mbackward\u001b[1;34m(tensors, grad_tensors, retain_graph, create_graph, grad_variables, inputs)\u001b[0m\n\u001b[0;32m    284\u001b[0m     retain_graph \u001b[38;5;241m=\u001b[39m create_graph\n\u001b[0;32m    286\u001b[0m \u001b[38;5;66;03m# The reason we repeat the same comment below is that\u001b[39;00m\n\u001b[0;32m    287\u001b[0m \u001b[38;5;66;03m# some Python versions print out the first line of a multi-line function\u001b[39;00m\n\u001b[0;32m    288\u001b[0m \u001b[38;5;66;03m# calls in the traceback and some print out the last line\u001b[39;00m\n\u001b[1;32m--> 289\u001b[0m \u001b[43m_engine_run_backward\u001b[49m\u001b[43m(\u001b[49m\n\u001b[0;32m    290\u001b[0m \u001b[43m    \u001b[49m\u001b[43mtensors\u001b[49m\u001b[43m,\u001b[49m\n\u001b[0;32m    291\u001b[0m \u001b[43m    \u001b[49m\u001b[43mgrad_tensors_\u001b[49m\u001b[43m,\u001b[49m\n\u001b[0;32m    292\u001b[0m \u001b[43m    \u001b[49m\u001b[43mretain_graph\u001b[49m\u001b[43m,\u001b[49m\n\u001b[0;32m    293\u001b[0m \u001b[43m    \u001b[49m\u001b[43mcreate_graph\u001b[49m\u001b[43m,\u001b[49m\n\u001b[0;32m    294\u001b[0m \u001b[43m    \u001b[49m\u001b[43minputs\u001b[49m\u001b[43m,\u001b[49m\n\u001b[0;32m    295\u001b[0m \u001b[43m    \u001b[49m\u001b[43mallow_unreachable\u001b[49m\u001b[38;5;241;43m=\u001b[39;49m\u001b[38;5;28;43;01mTrue\u001b[39;49;00m\u001b[43m,\u001b[49m\n\u001b[0;32m    296\u001b[0m \u001b[43m    \u001b[49m\u001b[43maccumulate_grad\u001b[49m\u001b[38;5;241;43m=\u001b[39;49m\u001b[38;5;28;43;01mTrue\u001b[39;49;00m\u001b[43m,\u001b[49m\n\u001b[0;32m    297\u001b[0m \u001b[43m\u001b[49m\u001b[43m)\u001b[49m\n",
      "File \u001b[1;32mc:\\Apps\\conda\\envs\\AIkurs_statistik\\lib\\site-packages\\torch\\autograd\\graph.py:769\u001b[0m, in \u001b[0;36m_engine_run_backward\u001b[1;34m(t_outputs, *args, **kwargs)\u001b[0m\n\u001b[0;32m    767\u001b[0m     unregister_hooks \u001b[38;5;241m=\u001b[39m _register_logging_hooks_on_whole_graph(t_outputs)\n\u001b[0;32m    768\u001b[0m \u001b[38;5;28;01mtry\u001b[39;00m:\n\u001b[1;32m--> 769\u001b[0m     \u001b[38;5;28;01mreturn\u001b[39;00m Variable\u001b[38;5;241m.\u001b[39m_execution_engine\u001b[38;5;241m.\u001b[39mrun_backward(  \u001b[38;5;66;03m# Calls into the C++ engine to run the backward pass\u001b[39;00m\n\u001b[0;32m    770\u001b[0m         t_outputs, \u001b[38;5;241m*\u001b[39margs, \u001b[38;5;241m*\u001b[39m\u001b[38;5;241m*\u001b[39mkwargs\n\u001b[0;32m    771\u001b[0m     )  \u001b[38;5;66;03m# Calls into the C++ engine to run the backward pass\u001b[39;00m\n\u001b[0;32m    772\u001b[0m \u001b[38;5;28;01mfinally\u001b[39;00m:\n\u001b[0;32m    773\u001b[0m     \u001b[38;5;28;01mif\u001b[39;00m attach_logging_hooks:\n",
      "\u001b[1;31mKeyboardInterrupt\u001b[0m: "
     ]
    }
   ],
   "source": [
    "# 9. Träna modellen\n",
    "trainer = Trainer(\n",
    "    model=model,\n",
    "    args=training_args,\n",
    "    train_dataset=train_dataset,\n",
    "    eval_dataset=test_dataset\n",
    ")\n",
    "\n",
    "trainer.train()\n"
   ]
  },
  {
   "cell_type": "code",
   "execution_count": 28,
   "metadata": {},
   "outputs": [
    {
     "data": {
      "application/vnd.jupyter.widget-view+json": {
       "model_id": "74d69d3f6a6e4b3e97bff19d280c250a",
       "version_major": 2,
       "version_minor": 0
      },
      "text/plain": [
       "  0%|          | 0/16000 [00:00<?, ?it/s]"
      ]
     },
     "metadata": {},
     "output_type": "display_data"
    },
    {
     "name": "stdout",
     "output_type": "stream",
     "text": [
      "{'eval_loss': 0.6035547256469727, 'eval_runtime': 2804.0112, 'eval_samples_per_second': 22.824, 'eval_steps_per_second': 5.706, 'epoch': 1.0}\n"
     ]
    },
    {
     "data": {
      "text/plain": [
       "{'eval_loss': 0.6035547256469727,\n",
       " 'eval_runtime': 2804.0112,\n",
       " 'eval_samples_per_second': 22.824,\n",
       " 'eval_steps_per_second': 5.706,\n",
       " 'epoch': 1.000765625}"
      ]
     },
     "execution_count": 28,
     "metadata": {},
     "output_type": "execute_result"
    }
   ],
   "source": [
    "# 9. Utvärdera modellen\n",
    "trainer.evaluate()"
   ]
  },
  {
   "cell_type": "code",
   "execution_count": 29,
   "metadata": {},
   "outputs": [
    {
     "data": {
      "application/vnd.jupyter.widget-view+json": {
       "model_id": "47e124579537440c966a72a29f672ce4",
       "version_major": 2,
       "version_minor": 0
      },
      "text/plain": [
       "  0%|          | 0/16000 [00:00<?, ?it/s]"
      ]
     },
     "metadata": {},
     "output_type": "display_data"
    },
    {
     "name": "stdout",
     "output_type": "stream",
     "text": [
      "              precision    recall  f1-score   support\n",
      "\n",
      "           0       0.77      0.88      0.82     32167\n",
      "           1       0.85      0.73      0.79     31833\n",
      "\n",
      "    accuracy                           0.80     64000\n",
      "   macro avg       0.81      0.80      0.80     64000\n",
      "weighted avg       0.81      0.80      0.80     64000\n",
      "\n",
      "[[28151  4016]\n",
      " [ 8565 23268]]\n"
     ]
    }
   ],
   "source": [
    "# 10. Gör förutsägelser och visa resultat\n",
    "predictions = trainer.predict(test_dataset)\n",
    "preds = np.argmax(predictions.predictions, axis=1)\n",
    "\n",
    "# 11. Visa klassificeringsrapport och förvirringsmatris\n",
    "print(classification_report(test_labels, preds))\n",
    "print(confusion_matrix(test_labels, preds))"
   ]
  },
  {
   "cell_type": "code",
   "execution_count": 30,
   "metadata": {},
   "outputs": [
    {
     "data": {
      "image/png": "[encoded data removed]",
      "text/plain": [
       "<Figure size 800x600 with 2 Axes>"
      ]
     },
     "metadata": {},
     "output_type": "display_data"
    }
   ],
   "source": [
    "# Generera förvirringsmatris\n",
    "cm = confusion_matrix(test_labels, preds)\n",
    "\n",
    "plt.figure(figsize=(8, 6))\n",
    "sns.heatmap(cm, annot=True, fmt='d', cmap='Blues', xticklabels=['Negative', 'Positive'], yticklabels=['Negative', 'Positive'])\n",
    "plt.ylabel('Actual')\n",
    "plt.xlabel('Predicted')\n",
    "plt.title('Confusion Matrix')\n",
    "plt.show()"
   ]
  },
  {
   "cell_type": "markdown",
   "metadata": {},
   "source": [
    "1. Introduktion av Problemet\n",
    "\n",
    "I dagens digitala värld är sociala medier en viktig plattform för kundinteraktion. Att förstå kunders känslor och åsikter om produkter och tjänster är avgörande för företags framgång. Negativa tweets kan skada ett företags rykte, medan positiva kommentarer kan förbättra det. Automatiserade verktyg för att analysera sentiment kan hjälpa företag att snabbt reagera på kunders behov och känslor, vilket förbättrar deras marknadsstrategier och kundservice.\n",
    "\n",
    "2. Basmodell\n",
    "\n",
    "DistilBERT är en lättviktig och snabb version av BERT (Bidirectional Encoder Representations from Transformers) som har pretränats på en stor mängd textdata. Den är designad för att förstå kontexten i text, vilket gör den idealisk för uppgifter som sentimentanalys.\n",
    "\n",
    "3. Modifiering av Basmodell\n",
    "\n",
    "I vår modell fryser vi de tidiga lagren av DistilBERT för att bevara de grundläggande funktionerna som modellen redan har lärt sig. Detta hjälper till att förhindra överfitting och gör att modellen kan generalisera bättre på vår specifika uppgift.\n",
    "Egna Lager:\n",
    "Vi lägger till ett klassificeringslager ovanpå DistilBERT för att anpassa modellen till vår uppgift med att klassificera tweets som positiva eller negativa. Detta lager kommer att tränas för att lära sig att känna igen sentimentet i våra specifika data.\n",
    "\n",
    "4. Träning av Modellen\n",
    "\n",
    "Vi delade datasetet i en träningsdel (80%) och en testdel (20%). Modellen tränades under tre epoker med en batch-storlek på 16. Vi använde en optimeringsalgoritm som justerade vikterna i klassificeringslagret för att förbättra modellens prestanda.\n",
    "\n",
    "5. Resultat och Databerättelse\n",
    "\n",
    "Modellen presterade bra med hög precision, recall och F1-score för båda klasserna. Förvirringsmatrisen visade att modellen kunde skilja mellan positiva och negativa tweets med hög noggrannhet.\n",
    "Databerättelse:\n",
    "Genom att använda modellen kan vi identifiera och analysera sentimentet i tweets i realtid. Till exempel, om en ny produkt lanseras, kan företaget snabbt få insikter om kundernas känslor och agera därefter. Detta kan leda till förbättrade kundrelationer och snabbare respons på negativa åsikter.\n",
    "\n",
    "6. Värdet för Företaget\n",
    "\n",
    "Modellen ger företaget möjlighet att snabbt identifiera kunders känslor och reaktioner. Detta kan förbättra företagets förmåga att hantera kriser och anpassa sina marknadsstrategier.\n",
    "Affärsvärde:\n",
    "Genom att använda sentimentanalys kan företaget få värdefulla insikter för att förbättra produkter och tjänster, vilket kan öka kundnöjdheten. Automatisering av analysprocessen sparar tid och resurser, vilket gör att företaget kan fokusera mer på strategiska beslut och kundinteraktion.\n",
    "Avslutning\n",
    "Sammanfattningsvis visar vår modell hur vi kan utnyttja avancerad teknik som transfer learning för att få insikter från sociala medier, vilket är ovärderligt för företagsframgång. Vi skapar värde genom att förbättra kundinsikter och öka effektiviteten i affärsprocesser."
   ]
  }
 ],
 "metadata": {
  "kernelspec": {
   "display_name": "AIkurs_statistik",
   "language": "python",
   "name": "aikurs_statistik"
  },
  "language_info": {
   "codemirror_mode": {
    "name": "ipython",
    "version": 3
   },
   "file_extension": ".py",
   "mimetype": "text/x-python",
   "name": "python",
   "nbconvert_exporter": "python",
   "pygments_lexer": "ipython3",
   "version": "3.9.19"
  }
 },
 "nbformat": 4,
 "nbformat_minor": 2
}
